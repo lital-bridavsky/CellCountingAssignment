{
  "cells": [
    {
      "cell_type": "code",
      "execution_count": null,
      "metadata": {
        "id": "hPIeKzv9Au_g"
      },
      "outputs": [],
      "source": [
        "from __future__ import print_function, division\n",
        "import os\n",
        "import torch\n",
        "import pandas as pd\n",
        "from skimage import io, transform\n",
        "import numpy as np\n",
        "import matplotlib.pyplot as plt\n",
        "from torch.utils.data import Dataset, DataLoader\n",
        "from torchvision import transforms, utils,datasets, models\n",
        "import torch\n",
        "import torch.nn as nn\n",
        "import torch.optim as optim\n",
        "from torch.optim import lr_scheduler\n",
        "import tqdm\n",
        "import glob\n",
        "# Ignore warnings\n",
        "import time\n",
        "import copy\n",
        "import warnings\n",
        "warnings.filterwarnings(\"ignore\")\n",
        "import math\n",
        "plt.ion()   # interactive mode\n",
        "import re\n",
        "import tensorflow as tf\n",
        "import torchvision.transforms.functional as F"
      ]
    },
    {
      "cell_type": "markdown",
      "metadata": {
        "id": "L7wLEB42KZ7z"
      },
      "source": [
        "### Load data"
      ]
    },
    {
      "cell_type": "code",
      "execution_count": null,
      "metadata": {
        "id": "Ji02UblbBCFl"
      },
      "outputs": [],
      "source": [
        "from google.colab import drive\n",
        "drive.mount('/content/drive/')"
      ]
    },
    {
      "cell_type": "code",
      "execution_count": null,
      "metadata": {
        "id": "FbHnVpFZBQKQ"
      },
      "outputs": [],
      "source": [
        "device = torch.device(\"cuda:0\" if torch.cuda.is_available() else \"cpu\")\n",
        "device"
      ]
    },
    {
      "cell_type": "code",
      "execution_count": null,
      "metadata": {
        "id": "jaDHBNHVER1A"
      },
      "outputs": [],
      "source": [
        "!ls \"/content/drive/My Drive/Ydata/CellCounting/images\""
      ]
    },
    {
      "cell_type": "code",
      "execution_count": null,
      "metadata": {
        "id": "PxgxYBE5BJrK"
      },
      "outputs": [],
      "source": [
        "io.imshow(io.imread(\"/content/drive/My Drive/Ydata/CellCounting/images/001cell.png\"))\n",
        "\n"
      ]
    },
    {
      "cell_type": "code",
      "execution_count": null,
      "metadata": {
        "id": "GO4Tw_xHB3QN"
      },
      "outputs": [],
      "source": [
        "images=[]\n",
        "imagesnames=[]\n",
        "\n",
        "\n",
        "\n",
        "for filename in glob.glob('//content/drive/My Drive/Ydata/CellCounting/images/*.png'):\n",
        "  img=io.imread(filename)\n",
        "  images.append(np.float32(img))\n",
        "  i=re.findall(r'\\d+', filename)[0]\n",
        "  imagesnames.append(int(i))\n",
        "\n",
        "\n",
        "\n",
        "imagedict=dict(zip(imagesnames,images))\n",
        "\n",
        "labels=[]\n",
        "labelsnames=[]\n",
        "\n",
        "for filename in glob.glob('//content/drive/My Drive/Ydata/CellCounting/labels/*.png'):\n",
        "  img=io.imread(filename)\n",
        "  labels.append(int(img.sum()/255))\n",
        "  i=re.findall(r'\\d+', filename)[0]\n",
        "  labelsnames.append(int(i))\n",
        "\n",
        "labelsdict=dict(zip(labelsnames,labels))"
      ]
    },
    {
      "cell_type": "code",
      "execution_count": null,
      "metadata": {
        "id": "ECsioS5iFvIO"
      },
      "outputs": [],
      "source": [
        "plt.imshow(imagedict[imagesnames[0]]),print(labelsdict[imagesnames[0]])"
      ]
    },
    {
      "cell_type": "code",
      "execution_count": null,
      "metadata": {
        "id": "yWhRv4h4IWBo"
      },
      "outputs": [],
      "source": [
        "len(imagedict)"
      ]
    },
    {
      "cell_type": "code",
      "execution_count": null,
      "metadata": {
        "id": "jUR3yc4QTuCd"
      },
      "outputs": [],
      "source": [
        "plt.hist(np.array(labels),bins=100)\n",
        "plt.show()"
      ]
    },
    {
      "cell_type": "code",
      "execution_count": null,
      "metadata": {
        "id": "LVSb_dkYG_9m"
      },
      "outputs": [],
      "source": [
        "class CustomDataset(Dataset):\n",
        "    def __init__(self, images, labels, transform=None):\n",
        "        self.images = images\n",
        "        self.labels = labels\n",
        "        self.transform = transform\n",
        "\n",
        "    def __len__(self):\n",
        "        return len(self.images)\n",
        "\n",
        "    def __getitem__(self, idx):\n",
        "        label = self.labels[idx]\n",
        "        img = self.images[idx]\n",
        "        if self.transform:\n",
        "            img = self.transform(img)\n",
        "        return img, label\n"
      ]
    },
    {
      "cell_type": "code",
      "execution_count": null,
      "metadata": {
        "colab": {
          "background_save": true
        },
        "id": "p_8ZE8FyIm21"
      },
      "outputs": [],
      "source": [
        "images_train=[imagedict[k]/255 for k in range(1,181)]\n",
        "images_test=[imagedict[k]/255 for k in range(181,200)]\n",
        "labels_train=[labelsdict[k] for k in range(1,181)]\n",
        "labels_test=[labelsdict[k] for k in range(181,200)]\n",
        "\n",
        "images_train=torch.tensor(np.array(images_train),dtype=torch.float32).permute(0, 3, 1, 2) #sample, channel, width, hieght\n",
        "images_test=torch.tensor(np.array(images_test),dtype=torch.float32).permute(0, 3, 1, 2) #sample, channel, width, hieght\n",
        "\n",
        "# Define transformations that resize the images to 256x256, and normalize them.\n",
        "# The means and standard deviations of each channel are the values used for normalization in ImageNet\n",
        "means = [0.485, 0.456, 0.406]\n",
        "stds = [0.229, 0.224, 0.225]\n",
        "\n",
        "data_transforms = {\n",
        "    'train': transforms.Compose([\n",
        "        transforms.ToTensor(),\n",
        "        transforms.Normalize(means, stds)\n",
        "    ]),\n",
        "    'val': transforms.Compose([\n",
        "        transforms.ToTensor(),\n",
        "        transforms.Normalize(means, stds)\n",
        "    ]),\n",
        "}\n",
        "\n",
        "image_datasets = {'train': CustomDataset(images_train, labels_train), #, transform=data_transforms),\n",
        "                  'val': CustomDataset(images_test, labels_test)} #, transform=data_transforms)}\n"
      ]
    },
    {
      "cell_type": "code",
      "execution_count": null,
      "metadata": {
        "colab": {
          "base_uri": "https://localhost:8080/",
          "height": 504
        },
        "id": "jNSf35CITyU5",
        "outputId": "4b3461c6-3e91-4446-a88c-4e05cb0838ac"
      },
      "outputs": [
        {
          "data": {
            "image/png": "[encoded data removed]",
            "text/plain": [
              "<Figure size 640x480 with 2 Axes>"
            ]
          },
          "metadata": {},
          "output_type": "display_data"
        },
        {
          "name": "stdout",
          "output_type": "stream",
          "text": [
            "\n"
          ]
        }
      ],
      "source": [
        "plt.subplot(1,2,1)\n",
        "plt.hist(np.array(labels_train),bins=100)\n",
        "plt.title(f'mean {np.array(labels_train).mean()}')\n",
        "plt.subplot(1,2,2)\n",
        "plt.hist(np.array(labels_test),bins=100)\n",
        "plt.title(f'mean {np.array(labels_test).mean()}')\n",
        "plt.tight_layout()\n",
        "plt.show()\n",
        "print()"
      ]
    },
    {
      "cell_type": "code",
      "execution_count": null,
      "metadata": {
        "id": "6VjXJ9eYKKlO"
      },
      "outputs": [],
      "source": [
        "dataset_sizes = {x: len(image_datasets[x]) for x in ['train', 'val']}\n"
      ]
    },
    {
      "cell_type": "markdown",
      "metadata": {
        "id": "ydVlteUeKcVk"
      },
      "source": [
        "### Run Models"
      ]
    },
    {
      "cell_type": "markdown",
      "source": [
        "Ultimately we learned this model is unnecesarily large!"
      ],
      "metadata": {
        "id": "AzJFq-rqEhWC"
      }
    },
    {
      "cell_type": "code",
      "execution_count": null,
      "metadata": {
        "id": "5aGf-U4NKN4-"
      },
      "outputs": [],
      "source": [
        "\n",
        "# Define the model\n",
        "modelOG = nn.Sequential(\n",
        "\n",
        "            nn.Conv2d(3, 32, kernel_size = 3, padding = 1),\n",
        "            nn.ReLU(),\n",
        "            nn.Conv2d(32,64, kernel_size = 3, stride = 1, padding = 1),\n",
        "            nn.ReLU(),\n",
        "            nn.MaxPool2d(2,2),\n",
        "\n",
        "            nn.Conv2d(64, 128, kernel_size = 3, stride = 1, padding = 1),\n",
        "            nn.ReLU(),\n",
        "            nn.Conv2d(128 ,128, kernel_size = 3, stride = 1, padding = 1),\n",
        "            nn.ReLU(),\n",
        "            nn.MaxPool2d(2,2),\n",
        "\n",
        "            nn.Conv2d(128, 64, kernel_size = 3, stride = 1, padding = 1),\n",
        "            nn.ReLU(),\n",
        "            nn.Conv2d(64 ,32, kernel_size = 3, stride = 1, padding = 1),\n",
        "            nn.ReLU(),\n",
        "            nn.MaxPool2d(2,2),\n",
        "\n",
        "\n",
        "            nn.Flatten(),\n",
        "            nn.Linear(32768,200),\n",
        "            nn.ReLU(),\n",
        "            nn.Linear(200, 50),\n",
        "            nn.ReLU(),\n",
        "            nn.Linear(50,1)\n",
        "        )\n"
      ]
    },
    {
      "cell_type": "code",
      "execution_count": null,
      "metadata": {
        "id": "PtzTW_EWKYoV"
      },
      "outputs": [],
      "source": [
        "def train_model(model, dataloader, criterion, optimizer, scheduler,num_epochs=25):\n",
        "    since = time.time()\n",
        "\n",
        "    # Init variables that will save info about the best model\n",
        "    best_model_wts = copy.deepcopy(model.state_dict())\n",
        "    best_loss = 1000000.0\n",
        "\n",
        "    train_res= np.zeros((2,num_epochs))\n",
        "    val_res=np.zeros((2,num_epochs))\n",
        "    dict_res={'train':train_res, 'val':val_res}\n",
        "\n",
        "    for epoch in range(num_epochs):\n",
        "        print('Epoch {}/{}'.format(epoch, num_epochs - 1))\n",
        "        print('-' * 10)\n",
        "\n",
        "        # Each epoch has a training and validation phase\n",
        "        for phase in ['train', 'val']:\n",
        "            if phase == 'train':\n",
        "                # Set model to training mode.\n",
        "                model.train()\n",
        "            else:\n",
        "                # Set model to evaluate mode. In evaluate mode, we don't perform backprop and don't need to keep the gradients\n",
        "                model.eval()\n",
        "\n",
        "            running_loss = 0.0\n",
        "\n",
        "            #Iterate over data\n",
        "            for inputs, labels in dataloaders[phase]:\n",
        "                # Prepare the inputs for GPU/CPU\n",
        "                X_batch = inputs.to(device)#,dtype='float32')\n",
        "                y_batch = labels.to(device)#,dtype='float32')\n",
        "\n",
        "\n",
        "                # zero the parameter gradients\n",
        "                optimizer.zero_grad()\n",
        "\n",
        "                # ===== forward pass ======\n",
        "                with torch.set_grad_enabled(phase=='train'):\n",
        "                    # If we're in train mode, we'll track the gradients to allow back-propagation\n",
        "                    outputs = model(X_batch) #\n",
        "                    loss = criterion(outputs, y_batch)\n",
        "\n",
        "                    # ==== backward pass + optimizer step ====\n",
        "                    # This runs only in the training phase\n",
        "                    if phase == 'train':\n",
        "                        loss.backward() # Perform a step in the opposite direction of the gradient\n",
        "                        optimizer.step() # Adapt the optimizer\n",
        "\n",
        "                # Collect statistics\n",
        "                running_loss += loss.item() * X_batch.size(0)\n",
        "\n",
        "            if phase == 'train':\n",
        "                # Adjust the learning rate based on the scheduler\n",
        "                scheduler.step()\n",
        "\n",
        "            epoch_loss = running_loss / dataset_sizes[phase]\n",
        "\n",
        "            print(f'{phase} Loss: {epoch_loss:.4f}')\n",
        "\n",
        "            dict_res[phase][0,epoch]=epoch_loss\n",
        "\n",
        "            # Keep the results of the best model so far\n",
        "            if phase == 'val' and epoch_loss < best_loss:\n",
        "                best_loss = epoch_loss\n",
        "                # deepcopy the model\n",
        "                best_model_wts = copy.deepcopy(model.state_dict())\n",
        "\n",
        "\n",
        "    time_elapsed = time.time() - since\n",
        "    print(f'Training complete in {(time_elapsed // 60):.0f}m {(time_elapsed % 60):.0f}s')\n",
        "    print(f'Best val MAE: {best_loss:4f}')\n",
        "\n",
        "    # load best model weights\n",
        "    model.load_state_dict(best_model_wts)\n",
        "\n",
        "    plt.plot(dict_res['train'][0])\n",
        "    plt.plot(dict_res['val'][0])\n",
        "    plt.title('Loss')\n",
        "    plt.legend(['train','val'])\n",
        "    plt.ylim(0,150)\n",
        "    plt.show()\n",
        "\n",
        "    return model, dict_res, best_loss\n"
      ]
    },
    {
      "cell_type": "code",
      "execution_count": null,
      "metadata": {
        "colab": {
          "base_uri": "https://localhost:8080/",
          "height": 1000
        },
        "id": "OSEEmB61K_U6",
        "outputId": "23e11e9b-db54-401e-8d35-1c020b39e34f"
      },
      "outputs": [
        {
          "name": "stdout",
          "output_type": "stream",
          "text": [
            "Epoch 0/9\n",
            "----------\n",
            "train Loss: 57.7276\n",
            "val Loss: 22.3684\n",
            "Epoch 1/9\n",
            "----------\n",
            "train Loss: 33.7276\n",
            "val Loss: 59.3672\n",
            "Epoch 2/9\n",
            "----------\n",
            "train Loss: 32.4577\n",
            "val Loss: 61.3304\n",
            "Epoch 3/9\n",
            "----------\n",
            "train Loss: 29.6399\n",
            "val Loss: 11.5501\n",
            "Epoch 4/9\n",
            "----------\n",
            "train Loss: 16.2008\n",
            "val Loss: 36.5270\n",
            "Epoch 5/9\n",
            "----------\n",
            "train Loss: 17.9375\n",
            "val Loss: 10.6815\n",
            "Epoch 6/9\n",
            "----------\n",
            "train Loss: 17.0813\n",
            "val Loss: 7.8503\n",
            "Epoch 7/9\n",
            "----------\n",
            "train Loss: 6.7680\n",
            "val Loss: 7.3338\n",
            "Epoch 8/9\n",
            "----------\n",
            "train Loss: 8.5974\n",
            "val Loss: 6.7763\n",
            "Epoch 9/9\n",
            "----------\n",
            "train Loss: 6.3150\n",
            "val Loss: 6.7010\n",
            "Training complete in 0m 39s\n",
            "Best val MAE: 6.700967\n"
          ]
        },
        {
          "data": {
            "image/png": "[encoded data removed]",
            "text/plain": [
              "<Figure size 640x480 with 1 Axes>"
            ]
          },
          "metadata": {},
          "output_type": "display_data"
        }
      ],
      "source": [
        "batchsize=1\n",
        "\n",
        "dataloaders = {\n",
        "    'train': torch.utils.data.DataLoader(image_datasets['train'], batch_size=batchsize,\n",
        "                                             shuffle=True, num_workers=4),\n",
        "    'val': torch.utils.data.DataLoader(image_datasets['val'], batch_size=batchsize,\n",
        "                                          shuffle=False, num_workers=4)\n",
        "  }\n",
        "\n",
        "model=copy.deepcopy(modelOG)\n",
        "model=model.to(device)\n",
        "\n",
        "\n",
        "criterion = nn.L1Loss() #MAE\n",
        "\n",
        "optimizer_ft =  optim.Adam(model.parameters(), lr=0.001) #optim.SGD(model.parameters(), lr=0.01, momentum=0.9) #\n",
        "\n",
        "exp_lr_scheduler = lr_scheduler.StepLR(optimizer_ft, step_size=7, gamma=0.1)\n",
        "\n",
        "num_epochs = 10\n",
        "\n",
        "model,dict_res,MAE = train_model(model,#.to('cuda'),\n",
        "                       dataloaders,\n",
        "                       criterion,\n",
        "                       optimizer_ft,\n",
        "                       exp_lr_scheduler,\n",
        "                       num_epochs=num_epochs)"
      ]
    },
    {
      "cell_type": "markdown",
      "metadata": {
        "id": "VDYBihJfTcC6"
      },
      "source": [
        "### try augmentation"
      ]
    },
    {
      "cell_type": "code",
      "execution_count": null,
      "metadata": {
        "id": "JrWNHxKPLuwn"
      },
      "outputs": [],
      "source": [
        "means = [0.485, 0.456, 0.406]\n",
        "stds = [0.229, 0.224, 0.225]\n",
        "\n",
        "data_transforms = {\n",
        "    'train': transforms.Compose([\n",
        "        transforms.ToTensor(),\n",
        "        transforms.Normalize(means, stds)\n",
        "    ]),\n",
        "    'val': transforms.Compose([\n",
        "        transforms.ToTensor(),\n",
        "        transforms.Normalize(means, stds)\n",
        "    ]),\n",
        "}\n",
        "\n",
        "image_datasets = {'train': CustomDataset(images_train, labels_train), #, transform=data_transforms),\n",
        "                  'val': CustomDataset(images_test, labels_test)} #, transform=data_transforms)}\n"
      ]
    },
    {
      "cell_type": "code",
      "execution_count": null,
      "metadata": {
        "colab": {
          "base_uri": "https://localhost:8080/",
          "height": 1000
        },
        "id": "GBtHXQ3QLns2",
        "outputId": "612022b5-e016-4b65-c579-330849b540a3"
      },
      "outputs": [
        {
          "name": "stdout",
          "output_type": "stream",
          "text": [
            "Epoch 0/9\n",
            "----------\n",
            "train Loss: 69.2063\n",
            "val Loss: 123.0056\n",
            "Epoch 1/9\n",
            "----------\n",
            "train Loss: 34.0389\n",
            "val Loss: 44.0592\n",
            "Epoch 2/9\n",
            "----------\n",
            "train Loss: 23.1621\n",
            "val Loss: 18.1461\n",
            "Epoch 3/9\n",
            "----------\n",
            "train Loss: 33.0061\n",
            "val Loss: 16.0849\n",
            "Epoch 4/9\n",
            "----------\n",
            "train Loss: 31.4842\n",
            "val Loss: 23.1589\n",
            "Epoch 5/9\n",
            "----------\n",
            "train Loss: 22.1398\n",
            "val Loss: 15.5451\n",
            "Epoch 6/9\n",
            "----------\n",
            "train Loss: 22.2128\n",
            "val Loss: 16.8865\n",
            "Epoch 7/9\n",
            "----------\n",
            "train Loss: 7.5917\n",
            "val Loss: 7.9871\n",
            "Epoch 8/9\n",
            "----------\n",
            "train Loss: 6.8311\n",
            "val Loss: 7.8026\n",
            "Epoch 9/9\n",
            "----------\n",
            "train Loss: 8.1568\n",
            "val Loss: 8.7753\n",
            "Training complete in 0m 33s\n",
            "Best val MAE: 7.802551\n"
          ]
        },
        {
          "data": {
            "image/png": "[encoded data removed]",
            "text/plain": [
              "<Figure size 640x480 with 1 Axes>"
            ]
          },
          "metadata": {},
          "output_type": "display_data"
        }
      ],
      "source": [
        "batchsize=1\n",
        "\n",
        "dataloaders = {\n",
        "    'train': torch.utils.data.DataLoader(image_datasets['train'], batch_size=batchsize,\n",
        "                                             shuffle=True, num_workers=4),\n",
        "    'val': torch.utils.data.DataLoader(image_datasets['val'], batch_size=batchsize,\n",
        "                                          shuffle=False, num_workers=4)\n",
        "  }\n",
        "\n",
        "model=copy.deepcopy(modelOG)\n",
        "model=model.to(device)\n",
        "\n",
        "\n",
        "criterion = nn.L1Loss() #MAE\n",
        "\n",
        "optimizer_ft =  optim.Adam(model.parameters(), lr=0.001) #optim.SGD(model.parameters(), lr=0.01, momentum=0.9) #\n",
        "\n",
        "exp_lr_scheduler = lr_scheduler.StepLR(optimizer_ft, step_size=7, gamma=0.1)\n",
        "\n",
        "num_epochs = 10\n",
        "\n",
        "model,dict_res,MAE = train_model(model,#.to('cuda'),\n",
        "                       dataloaders,\n",
        "                       criterion,\n",
        "                       optimizer_ft,\n",
        "                       exp_lr_scheduler,\n",
        "                       num_epochs=num_epochs)"
      ]
    },
    {
      "cell_type": "markdown",
      "metadata": {
        "id": "lRx0TC_LWEfK"
      },
      "source": [
        "### batch size"
      ]
    },
    {
      "cell_type": "code",
      "execution_count": null,
      "metadata": {
        "colab": {
          "base_uri": "https://localhost:8080/",
          "height": 1000
        },
        "id": "K54qVJJBWD63",
        "outputId": "72935ed0-7d85-446a-db9e-a12b502cae2b"
      },
      "outputs": [
        {
          "name": "stdout",
          "output_type": "stream",
          "text": [
            "Epoch 0/9\n",
            "----------\n",
            "train Loss: 117.5929\n",
            "val Loss: 63.7809\n",
            "Epoch 1/9\n",
            "----------\n",
            "train Loss: 57.4669\n",
            "val Loss: 60.1130\n",
            "Epoch 2/9\n",
            "----------\n",
            "train Loss: 55.0955\n",
            "val Loss: 59.6696\n",
            "Epoch 3/9\n",
            "----------\n",
            "train Loss: 54.3763\n",
            "val Loss: 59.5301\n",
            "Epoch 4/9\n",
            "----------\n",
            "train Loss: 51.7057\n",
            "val Loss: 93.1318\n",
            "Epoch 5/9\n",
            "----------\n",
            "train Loss: 65.1701\n",
            "val Loss: 67.2414\n",
            "Epoch 6/9\n",
            "----------\n",
            "train Loss: 56.5194\n",
            "val Loss: 61.1618\n",
            "Epoch 7/9\n",
            "----------\n",
            "train Loss: 53.1420\n",
            "val Loss: 58.7366\n",
            "Epoch 8/9\n",
            "----------\n",
            "train Loss: 50.7826\n",
            "val Loss: 59.6192\n",
            "Epoch 9/9\n",
            "----------\n",
            "train Loss: 51.6925\n",
            "val Loss: 59.2152\n",
            "Training complete in 0m 24s\n",
            "Best val MAE: 58.736619\n"
          ]
        },
        {
          "data": {
            "image/png": "[encoded data removed]",
            "text/plain": [
              "<Figure size 640x480 with 1 Axes>"
            ]
          },
          "metadata": {},
          "output_type": "display_data"
        }
      ],
      "source": [
        "batchsize=16\n",
        "\n",
        "dataloaders = {\n",
        "    'train': torch.utils.data.DataLoader(image_datasets['train'], batch_size=batchsize,\n",
        "                                             shuffle=True, num_workers=4),\n",
        "    'val': torch.utils.data.DataLoader(image_datasets['val'], batch_size=batchsize,\n",
        "                                          shuffle=False, num_workers=4)\n",
        "  }\n",
        "\n",
        "model=copy.deepcopy(modelOG)\n",
        "model=model.to(device)\n",
        "\n",
        "\n",
        "criterion = nn.L1Loss() #MAE\n",
        "\n",
        "optimizer_ft =  optim.Adam(model.parameters(), lr=0.001) #optim.SGD(model.parameters(), lr=0.01, momentum=0.9) #\n",
        "\n",
        "exp_lr_scheduler = lr_scheduler.StepLR(optimizer_ft, step_size=7, gamma=0.1)\n",
        "\n",
        "num_epochs = 10\n",
        "\n",
        "model,dict_res,MAE = train_model(model,#.to('cuda'),\n",
        "                       dataloaders,\n",
        "                       criterion,\n",
        "                       optimizer_ft,\n",
        "                       exp_lr_scheduler,\n",
        "                       num_epochs=num_epochs)"
      ]
    },
    {
      "cell_type": "markdown",
      "metadata": {
        "id": "TXcLUsNBY-Bk"
      },
      "source": [
        "### adjust sharpness augmentation"
      ]
    },
    {
      "cell_type": "code",
      "execution_count": null,
      "metadata": {
        "colab": {
          "base_uri": "https://localhost:8080/",
          "height": 1000
        },
        "id": "okcX68q8ZDjs",
        "outputId": "017da8bf-3e0f-40ff-9c2e-918ea86e7861"
      },
      "outputs": [
        {
          "name": "stdout",
          "output_type": "stream",
          "text": [
            "Epoch 0/14\n",
            "----------\n",
            "train Loss: 62.9059\n",
            "val Loss: 24.6554\n",
            "Epoch 1/14\n",
            "----------\n",
            "train Loss: 33.1158\n",
            "val Loss: 91.3351\n",
            "Epoch 2/14\n",
            "----------\n",
            "train Loss: 21.6124\n",
            "val Loss: 52.2868\n",
            "Epoch 3/14\n",
            "----------\n",
            "train Loss: 20.1256\n",
            "val Loss: 15.2471\n",
            "Epoch 4/14\n",
            "----------\n",
            "train Loss: 19.0049\n",
            "val Loss: 10.5484\n",
            "Epoch 5/14\n",
            "----------\n",
            "train Loss: 19.8437\n",
            "val Loss: 15.8196\n",
            "Epoch 6/14\n",
            "----------\n",
            "train Loss: 20.8839\n",
            "val Loss: 18.6605\n",
            "Epoch 7/14\n",
            "----------\n",
            "train Loss: 7.5566\n",
            "val Loss: 7.5342\n",
            "Epoch 8/14\n",
            "----------\n",
            "train Loss: 7.2160\n",
            "val Loss: 8.6225\n",
            "Epoch 9/14\n",
            "----------\n",
            "train Loss: 7.3579\n",
            "val Loss: 10.6893\n",
            "Epoch 10/14\n",
            "----------\n",
            "train Loss: 6.9433\n",
            "val Loss: 11.6404\n",
            "Epoch 11/14\n",
            "----------\n",
            "train Loss: 6.5797\n",
            "val Loss: 6.5288\n",
            "Epoch 12/14\n",
            "----------\n",
            "train Loss: 6.8087\n",
            "val Loss: 8.0717\n",
            "Epoch 13/14\n",
            "----------\n",
            "train Loss: 6.4271\n",
            "val Loss: 5.8930\n",
            "Epoch 14/14\n",
            "----------\n",
            "train Loss: 4.8821\n",
            "val Loss: 6.7723\n",
            "Training complete in 0m 52s\n",
            "Best val MAE: 5.892988\n"
          ]
        },
        {
          "data": {
            "image/png": "[encoded data removed]",
            "text/plain": [
              "<Figure size 640x480 with 1 Axes>"
            ]
          },
          "metadata": {},
          "output_type": "display_data"
        }
      ],
      "source": [
        "batchsize=1\n",
        "\n",
        "torch.manual_seed(42)\n",
        "\n",
        "means = [0.485, 0.456, 0.406]\n",
        "stds = [0.229, 0.224, 0.225]\n",
        "\n",
        "data_transforms = {\n",
        "    'train': transforms.Compose([\n",
        "        transforms.ToTensor(),\n",
        "        transforms.Normalize(means, stds),\n",
        "        transforms.ColorJitter(),\n",
        "        transforms.RandomAdjustSharpness(sharpness_factor=.5)\n",
        "    ]),\n",
        "    'val': transforms.Compose([\n",
        "        transforms.ToTensor(),\n",
        "        transforms.Normalize(means, stds),\n",
        "        transforms.ColorJitter(),\n",
        "        transforms.RandomAdjustSharpness(sharpness_factor=.5)\n",
        "\n",
        "    ]),\n",
        "}\n",
        "\n",
        "image_datasets = {'train': CustomDataset(images_train, labels_train), #, transform=data_transforms),\n",
        "                  'val': CustomDataset(images_test, labels_test)} #, transform=data_transforms)}\n",
        "\n",
        "\n",
        "\n",
        "dataloaders = {\n",
        "    'train': torch.utils.data.DataLoader(image_datasets['train'], batch_size=batchsize,\n",
        "                                             shuffle=True, num_workers=4),\n",
        "    'val': torch.utils.data.DataLoader(image_datasets['val'], batch_size=batchsize,\n",
        "                                          shuffle=False, num_workers=4)\n",
        "  }\n",
        "\n",
        "model=copy.deepcopy(modelOG)\n",
        "model=model.to(device)\n",
        "\n",
        "\n",
        "criterion = nn.L1Loss() #MAE\n",
        "\n",
        "optimizer_ft =  optim.Adam(model.parameters(), lr=0.001) #optim.SGD(model.parameters(), lr=0.01, momentum=0.9) #\n",
        "\n",
        "exp_lr_scheduler = lr_scheduler.StepLR(optimizer_ft, step_size=7, gamma=0.1)\n",
        "\n",
        "num_epochs = 15\n",
        "\n",
        "model,dict_res,MAE = train_model(model,#.to('cuda'),\n",
        "                       dataloaders,\n",
        "                       criterion,\n",
        "                       optimizer_ft,\n",
        "                       exp_lr_scheduler,\n",
        "                       num_epochs=num_epochs)"
      ]
    },
    {
      "cell_type": "markdown",
      "metadata": {
        "id": "s7ihLrLGbrAW"
      },
      "source": [
        "### optimizer"
      ]
    },
    {
      "cell_type": "code",
      "execution_count": null,
      "metadata": {
        "colab": {
          "base_uri": "https://localhost:8080/"
        },
        "id": "8GqfcZvEbnMP",
        "outputId": "8ac295bd-9a35-4a32-8017-460a62021c2c"
      },
      "outputs": [
        {
          "name": "stdout",
          "output_type": "stream",
          "text": [
            "Epoch 0/14\n",
            "----------\n",
            "train Loss: 176.4703\n",
            "val Loss: 172.6021\n",
            "Epoch 1/14\n",
            "----------\n",
            "train Loss: 176.4384\n",
            "val Loss: 172.5704\n",
            "Epoch 2/14\n",
            "----------\n",
            "train Loss: 176.4067\n",
            "val Loss: 172.5387\n",
            "Epoch 3/14\n",
            "----------\n",
            "train Loss: 176.3748\n",
            "val Loss: 172.5063\n",
            "Epoch 4/14\n",
            "----------\n",
            "train Loss: 176.3418\n",
            "val Loss: 172.4730\n",
            "Epoch 5/14\n",
            "----------\n",
            "train Loss: 176.3096\n",
            "val Loss: 172.4426\n",
            "Epoch 6/14\n",
            "----------\n",
            "train Loss: 176.2799\n",
            "val Loss: 172.4128\n",
            "Epoch 7/14\n",
            "----------\n"
          ]
        }
      ],
      "source": [
        "batchsize=1\n",
        "\n",
        "torch.manual_seed(42)\n",
        "\n",
        "means = [0.485, 0.456, 0.406]\n",
        "stds = [0.229, 0.224, 0.225]\n",
        "\n",
        "data_transforms = {\n",
        "    'train': transforms.Compose([\n",
        "        transforms.ToTensor(),\n",
        "        transforms.Normalize(means, stds),\n",
        "        transforms.ColorJitter(),\n",
        "        transforms.RandomAdjustSharpness(sharpness_factor=.5)\n",
        "    ]),\n",
        "    'val': transforms.Compose([\n",
        "        transforms.ToTensor(),\n",
        "        transforms.Normalize(means, stds),\n",
        "        transforms.ColorJitter(),\n",
        "        transforms.RandomAdjustSharpness(sharpness_factor=.5)\n",
        "\n",
        "    ]),\n",
        "}\n",
        "\n",
        "image_datasets = {'train': CustomDataset(images_train, labels_train), #, transform=data_transforms),\n",
        "                  'val': CustomDataset(images_test, labels_test)} #, transform=data_transforms)}\n",
        "\n",
        "\n",
        "\n",
        "dataloaders = {\n",
        "    'train': torch.utils.data.DataLoader(image_datasets['train'], batch_size=batchsize,\n",
        "                                             shuffle=True, num_workers=4),\n",
        "    'val': torch.utils.data.DataLoader(image_datasets['val'], batch_size=batchsize,\n",
        "                                          shuffle=False, num_workers=4)\n",
        "  }\n",
        "\n",
        "model=copy.deepcopy(modelOG)\n",
        "model=model.to(device)\n",
        "\n",
        "\n",
        "criterion = nn.L1Loss() #MAE\n",
        "\n",
        "optimizer_ft =  optim.SGD(model.parameters(), lr=0.001)\n",
        "\n",
        "exp_lr_scheduler = lr_scheduler.StepLR(optimizer_ft, step_size=7, gamma=0.1)\n",
        "\n",
        "num_epochs = 15\n",
        "\n",
        "model,dict_res,MAE = train_model(model,#.to('cuda'),\n",
        "                       dataloaders,\n",
        "                       criterion,\n",
        "                       optimizer_ft,\n",
        "                       exp_lr_scheduler,\n",
        "                       num_epochs=num_epochs)"
      ]
    },
    {
      "cell_type": "markdown",
      "metadata": {
        "id": "14aU7KyuTlUw"
      },
      "source": [
        "### error analysis"
      ]
    },
    {
      "cell_type": "markdown",
      "source": [
        "Checking to see if there have specific problem areas"
      ],
      "metadata": {
        "id": "fx2XieC4EMJ8"
      }
    },
    {
      "cell_type": "code",
      "execution_count": null,
      "metadata": {
        "id": "gecHA1MnU3-g"
      },
      "outputs": [],
      "source": [
        "batchsize=1\n",
        "\n",
        "dataloaders = {\n",
        "    'train': torch.utils.data.DataLoader(image_datasets['train'], batch_size=batchsize,\n",
        "                                             shuffle=True, num_workers=4),\n",
        "    'val': torch.utils.data.DataLoader(image_datasets['val'], batch_size=batchsize,\n",
        "                                          shuffle=False, num_workers=4)\n",
        "  }\n",
        "\n",
        "y_pred=[]\n",
        "y_true=[]\n",
        "\n",
        "for input, y in dataloaders['val']:\n",
        "  input = input[0:1]\n",
        "  y = y[0:1]\n",
        "  pred=model(input.float().to(device))\n",
        "  y_pred.append(pred[0][0])\n",
        "  y_true.append(y.cpu())\n",
        "\n"
      ]
    },
    {
      "cell_type": "code",
      "execution_count": null,
      "metadata": {
        "id": "onor3s4NMnFu"
      },
      "outputs": [],
      "source": [
        "y_pred1=[np.array(k.detach().cpu()) for k in y_pred]\n"
      ]
    },
    {
      "cell_type": "code",
      "execution_count": null,
      "metadata": {
        "colab": {
          "base_uri": "https://localhost:8080/",
          "height": 447
        },
        "id": "bNqxUbfEYLd1",
        "outputId": "d90901a1-8384-4bd7-c42c-a70cb7fb0074"
      },
      "outputs": [
        {
          "data": {
            "text/plain": [
              "[<matplotlib.lines.Line2D at 0x7f4abf07fa30>]"
            ]
          },
          "execution_count": 140,
          "metadata": {},
          "output_type": "execute_result"
        },
        {
          "data": {
            "image/png": "[encoded data removed]",
            "text/plain": [
              "<Figure size 640x480 with 1 Axes>"
            ]
          },
          "metadata": {},
          "output_type": "display_data"
        }
      ],
      "source": [
        "plt.plot(y_pred1)\n",
        "plt.plot(y_true)"
      ]
    },
    {
      "cell_type": "markdown",
      "source": [
        "In most cases we are undercounting. Perhaps sharpness augmentation is work playing with."
      ],
      "metadata": {
        "id": "raFolI5kEYrs"
      }
    },
    {
      "cell_type": "code",
      "execution_count": null,
      "metadata": {
        "id": "aXHVJf3vXjj1"
      },
      "outputs": [],
      "source": []
    }
  ],
  "metadata": {
    "accelerator": "GPU",
    "colab": {
      "provenance": []
    },
    "gpuClass": "standard",
    "kernelspec": {
      "display_name": "Python 3",
      "name": "python3"
    },
    "language_info": {
      "name": "python"
    }
  },
  "nbformat": 4,
  "nbformat_minor": 0
}